{
 "cells": [
  {
   "cell_type": "code",
   "execution_count": 12,
   "id": "cff5a214",
   "metadata": {},
   "outputs": [],
   "source": [
    "#Q1. Create one variable containing following type of data:\n",
    "#(i) string\n",
    "#(ii) list\n",
    "#(iii) float\n",
    "#(iv) tuple\n",
    "s=\"alok\"\n",
    "l=[2,34.32,43]\n",
    "f=23.43\n",
    "t=(1,4,7,8)"
   ]
  },
  {
   "cell_type": "code",
   "execution_count": 14,
   "id": "28bb3351",
   "metadata": {},
   "outputs": [
    {
     "data": {
      "text/plain": [
       "'alok'"
      ]
     },
     "execution_count": 14,
     "metadata": {},
     "output_type": "execute_result"
    }
   ],
   "source": [
    "s"
   ]
  },
  {
   "cell_type": "code",
   "execution_count": 15,
   "id": "06800c3d",
   "metadata": {},
   "outputs": [
    {
     "data": {
      "text/plain": [
       "[2, 34.32, 43]"
      ]
     },
     "execution_count": 15,
     "metadata": {},
     "output_type": "execute_result"
    }
   ],
   "source": [
    "l"
   ]
  },
  {
   "cell_type": "code",
   "execution_count": 16,
   "id": "f785f154",
   "metadata": {},
   "outputs": [
    {
     "data": {
      "text/plain": [
       "23.43"
      ]
     },
     "execution_count": 16,
     "metadata": {},
     "output_type": "execute_result"
    }
   ],
   "source": [
    "f"
   ]
  },
  {
   "cell_type": "code",
   "execution_count": 17,
   "id": "6cf077ce",
   "metadata": {},
   "outputs": [
    {
     "data": {
      "text/plain": [
       "(1, 4, 7, 8)"
      ]
     },
     "execution_count": 17,
     "metadata": {},
     "output_type": "execute_result"
    }
   ],
   "source": [
    "t"
   ]
  },
  {
   "cell_type": "code",
   "execution_count": null,
   "id": "e475861e",
   "metadata": {},
   "outputs": [],
   "source": [
    "#Q2. Given are some following variables containing data:\n",
    "#(i) var1 = ' '\n",
    "#(ii) var2 ='[DS,ML,Python]'\n",
    "#(iii) var3 =['DS','ML','python']\n",
    "#(iv) var4 = 1\n",
    "#What will be the data type of the above given variable.\n",
    "Ans 1--- it is a string\n",
    "Ans 2--- it  is a string containing a list-like structure as a string\n",
    "Ans 3--- it is a list containing a string -like structure  as a list\n",
    "Ans 4--- it is a integer value is 1.\n",
    "Ans (1) is a string\n",
    "    (2) is a string\n",
    "     (3) is a list\n",
    "      (4) is a integer   "
   ]
  },
  {
   "cell_type": "code",
   "execution_count": 31,
   "id": "345b4a7e",
   "metadata": {},
   "outputs": [],
   "source": [
    "#  Q3. Explain the use of the following operators using an example:\n",
    "#(i) /\n",
    "#(ii) %\n",
    "#(iii) //\n",
    "#(iv) **"
   ]
  },
  {
   "cell_type": "code",
   "execution_count": 37,
   "id": "f121dfe6",
   "metadata": {},
   "outputs": [
    {
     "data": {
      "text/plain": [
       "2"
      ]
     },
     "execution_count": 37,
     "metadata": {},
     "output_type": "execute_result"
    }
   ],
   "source": [
    "\n",
    "10//5 #t is a  division operator  it give the quotient"
   ]
  },
  {
   "cell_type": "code",
   "execution_count": 35,
   "id": "8e0c6dfe",
   "metadata": {},
   "outputs": [
    {
     "data": {
      "text/plain": [
       "1"
      ]
     },
     "execution_count": 35,
     "metadata": {},
     "output_type": "execute_result"
    }
   ],
   "source": [
    "9 % 2 # it is the modulus  it give the remainder"
   ]
  },
  {
   "cell_type": "code",
   "execution_count": 36,
   "id": "9149d548",
   "metadata": {},
   "outputs": [
    {
     "data": {
      "text/plain": [
       "4"
      ]
     },
     "execution_count": 36,
     "metadata": {},
     "output_type": "execute_result"
    }
   ],
   "source": [
    "9 //2 # it is a floor division it is also give the quotient"
   ]
  },
  {
   "cell_type": "code",
   "execution_count": 38,
   "id": "e5cce48d",
   "metadata": {},
   "outputs": [
    {
     "data": {
      "text/plain": [
       "4"
      ]
     },
     "execution_count": 38,
     "metadata": {},
     "output_type": "execute_result"
    }
   ],
   "source": [
    "2**2 # it is a multiple operator it give the multiple of a number"
   ]
  },
  {
   "cell_type": "code",
   "execution_count": null,
   "id": "92a25328",
   "metadata": {},
   "outputs": [],
   "source": []
  },
  {
   "cell_type": "code",
   "execution_count": 43,
   "id": "444bbb8a",
   "metadata": {},
   "outputs": [
    {
     "name": "stdout",
     "output_type": "stream",
     "text": [
      "Element: 1, Data Type: <class 'int'>\n",
      "Element: 2.5, Data Type: <class 'float'>\n",
      "Element: hello, Data Type: <class 'str'>\n",
      "Element: True, Data Type: <class 'bool'>\n",
      "Element: [1, 2, 3], Data Type: <class 'list'>\n",
      "Element: {'name': 'Alice', 'age': 30}, Data Type: <class 'dict'>\n",
      "Element: None, Data Type: <class 'NoneType'>\n",
      "Element: ('apple', 'banana'), Data Type: <class 'tuple'>\n",
      "Element: (4+3j), Data Type: <class 'complex'>\n",
      "Element: False, Data Type: <class 'bool'>\n"
     ]
    }
   ],
   "source": [
    "# Q4. Create a list of length 10 of your choice containing multiple types of data. Using for loop print the\n",
    "#element and its data type.\n",
    "my_list = [1, 2.5, 'hello', True, [1, 2, 3], {'name': 'Alice', 'age': 30}, None, ('apple', 'banana'), 4 + 3j, False]\n",
    "\n",
    "\n",
    "for  i in my_list:\n",
    "    print(f\"Element: {i}, Data Type: {type(i)}\")\n"
   ]
  },
  {
   "cell_type": "code",
   "execution_count": 5,
   "id": "45ac3902",
   "metadata": {},
   "outputs": [
    {
     "name": "stdout",
     "output_type": "stream",
     "text": [
      "Enter the value of A: 80\n",
      "Enter the value of B: 8\n",
      "10.0 is divisible by 8, and it can be divided 1 times.\n"
     ]
    }
   ],
   "source": [
    "#Q5. Using a while loop, verify if the number A is purely divisible by number B and if so then how many\n",
    "#times it can be divisible.\n",
    "\n",
    "A = int(input(\"Enter the value of A: \"))\n",
    "B = int(input(\"Enter the value of B: \"))\n",
    "\n",
    "\n",
    "count = 0\n",
    "\n",
    "\n",
    "while A >= B and A % B == 0:\n",
    "    A = A / B\n",
    "    count += 1\n",
    "\n",
    "\n",
    "if count > 0:\n",
    "    print(f\"{A} is divisible by {B}, and it can be divided {count} times.\")\n",
    "else:\n",
    "    print(f\"{A} is not divisible by {B}.\")\n",
    "\n",
    "\n",
    "    \n"
   ]
  },
  {
   "cell_type": "code",
   "execution_count": 1,
   "id": "7f945169",
   "metadata": {},
   "outputs": [
    {
     "name": "stdout",
     "output_type": "stream",
     "text": [
      "2 is not divisible by 3\n",
      "5 is not divisible by 3\n",
      "10 is not divisible by 3\n",
      "18 is divisible by 3\n",
      "21 is divisible by 3\n",
      "7 is not divisible by 3\n",
      "19 is not divisible by 3\n",
      "14 is not divisible by 3\n",
      "28 is not divisible by 3\n",
      "33 is divisible by 3\n",
      "6 is divisible by 3\n",
      "15 is divisible by 3\n",
      "22 is not divisible by 3\n",
      "30 is divisible by 3\n",
      "8 is not divisible by 3\n",
      "4 is not divisible by 3\n",
      "27 is divisible by 3\n",
      "16 is not divisible by 3\n",
      "11 is not divisible by 3\n",
      "20 is not divisible by 3\n",
      "25 is not divisible by 3\n",
      "36 is divisible by 3\n",
      "45 is divisible by 3\n",
      "49 is not divisible by 3\n",
      "3 is divisible by 3\n"
     ]
    }
   ],
   "source": [
    "#Q6. Create a list containing 25 int type data. Using for loop and if-else condition print if the element is\n",
    "#divisible by 3 or not.\n",
    "my_list = [2, 5, 10, 18, 21, 7, 19, 14, 28, 33, 6, 15, 22, 30, 8, 4, 27, 16, 11, 20, 25, 36, 45, 49, 3]\n",
    "\n",
    "\n",
    "for num in my_list:\n",
    "    if num % 3 == 0:\n",
    "        print(f\"{num} is divisible by 3\")\n",
    "    else:\n",
    "        print(f\"{num} is not divisible by 3\")\n"
   ]
  },
  {
   "cell_type": "code",
   "execution_count": 7,
   "id": "635f5465",
   "metadata": {},
   "outputs": [],
   "source": [
    "#Q7. What do you understand about mutable and immutable data types? Give examples for both showing\n",
    "#this property.\n",
    "# mutable data types are those whose values can be modified after creation. \n",
    "#it is work only in list\n",
    "l=[2,3,4,5]\n",
    "l[2]=300\n",
    "\n"
   ]
  },
  {
   "cell_type": "code",
   "execution_count": 8,
   "id": "037ee83f",
   "metadata": {},
   "outputs": [
    {
     "data": {
      "text/plain": [
       "[2, 3, 300, 5]"
      ]
     },
     "execution_count": 8,
     "metadata": {},
     "output_type": "execute_result"
    }
   ],
   "source": [
    "l"
   ]
  },
  {
   "cell_type": "code",
   "execution_count": 9,
   "id": "a66afefe",
   "metadata": {},
   "outputs": [
    {
     "ename": "TypeError",
     "evalue": "'tuple' object does not support item assignment",
     "output_type": "error",
     "traceback": [
      "\u001b[1;31m---------------------------------------------------------------------------\u001b[0m",
      "\u001b[1;31mTypeError\u001b[0m                                 Traceback (most recent call last)",
      "Cell \u001b[1;32mIn[9], line 2\u001b[0m\n\u001b[0;32m      1\u001b[0m s\u001b[38;5;241m=\u001b[39m\u001b[38;5;124m\"\u001b[39m\u001b[38;5;124malok\u001b[39m\u001b[38;5;124m\"\u001b[39m,\u001b[38;5;124m\"\u001b[39m\u001b[38;5;124mbittu\u001b[39m\u001b[38;5;124m\"\u001b[39m\n\u001b[1;32m----> 2\u001b[0m s[\u001b[38;5;241m1\u001b[39m]\u001b[38;5;241m=\u001b[39m\u001b[38;5;124m\"\u001b[39m\u001b[38;5;124mpwskills\u001b[39m\u001b[38;5;124m\"\u001b[39m\n",
      "\u001b[1;31mTypeError\u001b[0m: 'tuple' object does not support item assignment"
     ]
    }
   ],
   "source": [
    "# immutable data types are those whose values cannot be a modified creation.\n",
    "# it work in string ,tuble,set\n",
    "s=\"alok\",\"bittu\"\n",
    "s[1]=\"pwskills\""
   ]
  },
  {
   "cell_type": "code",
   "execution_count": null,
   "id": "3ed9fa57",
   "metadata": {},
   "outputs": [],
   "source": []
  },
  {
   "cell_type": "code",
   "execution_count": null,
   "id": "30ee83ec",
   "metadata": {},
   "outputs": [],
   "source": []
  }
 ],
 "metadata": {
  "kernelspec": {
   "display_name": "Python 3 (ipykernel)",
   "language": "python",
   "name": "python3"
  },
  "language_info": {
   "codemirror_mode": {
    "name": "ipython",
    "version": 3
   },
   "file_extension": ".py",
   "mimetype": "text/x-python",
   "name": "python",
   "nbconvert_exporter": "python",
   "pygments_lexer": "ipython3",
   "version": "3.11.4"
  }
 },
 "nbformat": 4,
 "nbformat_minor": 5
}
